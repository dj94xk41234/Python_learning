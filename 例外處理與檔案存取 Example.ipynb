{
 "cells": [
  {
   "cell_type": "markdown",
   "metadata": {},
   "source": [
    "# 範例\n",
    "***"
   ]
  },
  {
   "cell_type": "markdown",
   "metadata": {},
   "source": [
    "# [教學目標]\n",
    "\n",
    "* 能夠使用例外處理避免程式中斷\n",
    "* 能夠正確的讀寫外部檔案\n",
    "\n",
    "\n",
    "\n",
    "\n",
    "\n",
    "\n"
   ]
  },
  {
   "cell_type": "code",
   "execution_count": 3,
   "metadata": {},
   "outputs": [
    {
     "name": "stdout",
     "output_type": "stream",
     "text": [
      "the first number:d\n",
      "the second number:f\n",
      "could not convert string to float: 'd'\n"
     ]
    }
   ],
   "source": [
    "# try-except\n",
    "\n",
    "try:\n",
    "    x = input(\"the first number:\")\n",
    "    y = input(\"the second number:\")\n",
    "    r = float(x)/float(y)\n",
    "    print(r)\n",
    "except Exception as e:\n",
    "    print(e)\n"
   ]
  },
  {
   "cell_type": "code",
   "execution_count": 6,
   "metadata": {},
   "outputs": [],
   "source": [
    "# File I/O\n",
    "\n",
    "fh = open(\"example.txt\", \"r\")\n",
    "fh.read()\n",
    "fh.close()\n",
    "\n",
    "\n",
    "fh = open(\"example.txt\", \"w\")\n",
    "fh.write(\"To write or not to write\\nthat is the question!\\n\")\n",
    "fh.close()\n",
    "\n"
   ]
  },
  {
   "cell_type": "code",
   "execution_count": 16,
   "metadata": {},
   "outputs": [],
   "source": [
    "fh = open(\"test.txt\", \"w\")\n",
    "fh.write(\"To write or not to write\\nthat is the question!\\n\")\n",
    "fh.close()\n"
   ]
  },
  {
   "cell_type": "code",
   "execution_count": 20,
   "metadata": {},
   "outputs": [
    {
     "name": "stdout",
     "output_type": "stream",
     "text": [
      "To write or not to write\n",
      "that is the question!\n",
      "\n",
      "\n"
     ]
    }
   ],
   "source": [
    "# 更多讀檔用法\n",
    "\n",
    "f = open(\"test.txt\", \"r\")\n",
    "\n",
    "print(f.read())\n",
    "print(f.readline())\n",
    "\n",
    "for line in f.readlines():\n",
    "    print(line)\n",
    "\n",
    "f.close()\n"
   ]
  },
  {
   "cell_type": "code",
   "execution_count": 21,
   "metadata": {},
   "outputs": [],
   "source": [
    "# 更多寫檔用法\n",
    "\n",
    "f = open(\"test.txt\", \"w\")\n",
    "\n",
    "s = 'Hello World'\n",
    "f.write( s )\n",
    "\n",
    "seq = [\"Hello\", ' ',\"World\"]\n",
    "f.writelines( seq )\n",
    "\n",
    "f.close()\n"
   ]
  },
  {
   "cell_type": "code",
   "execution_count": 24,
   "metadata": {},
   "outputs": [
    {
     "name": "stdout",
     "output_type": "stream",
     "text": [
      "\n"
     ]
    }
   ],
   "source": [
    "# 'with' Statement \n",
    "\n",
    "with open(\"example.txt\", \"w\") as fh:\n",
    "    fh.write(\"To write or not to write\\nthat is the question!\\n\")\n",
    "\n",
    "with open(\"example.txt\", \"r\") as fh:\n",
    "    fh.read()\n"
   ]
  },
  {
   "cell_type": "code",
   "execution_count": null,
   "metadata": {},
   "outputs": [],
   "source": []
  }
 ],
 "metadata": {
  "kernelspec": {
   "display_name": "Python 3",
   "language": "python",
   "name": "python3"
  },
  "language_info": {
   "codemirror_mode": {
    "name": "ipython",
    "version": 3
   },
   "file_extension": ".py",
   "mimetype": "text/x-python",
   "name": "python",
   "nbconvert_exporter": "python",
   "pygments_lexer": "ipython3",
   "version": "3.8.3"
  }
 },
 "nbformat": 4,
 "nbformat_minor": 2
}
