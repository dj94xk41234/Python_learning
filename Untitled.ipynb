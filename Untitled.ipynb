{
 "cells": [
  {
   "cell_type": "code",
   "execution_count": 8,
   "metadata": {},
   "outputs": [
    {
     "name": "stdout",
     "output_type": "stream",
     "text": [
      "1\n",
      "2\n"
     ]
    }
   ],
   "source": [
    "class MyIterator:\n",
    "    def __init__(self, max_num):\n",
    "        self.max_num = max_num\n",
    "        self.index = 0\n",
    "\n",
    "    def __iter__(self):\n",
    "        return self\n",
    "        \n",
    "    def __next__(self):\n",
    "        self.index += 1\n",
    "        if self.index < self.max_num:\n",
    "            return self.index\n",
    "        else:\n",
    "            raise StopIteration\n",
    "        \n",
    "my_iterator = MyIterator(3)\n",
    "for item in my_iterator:\n",
    "    print(item)\n",
    "# 1\n",
    "# 2\n",
    "# 3\n",
    "\n",
    "for item in my_iterator:\n",
    "    print(item)\n",
    "# (no result)"
   ]
  },
  {
   "cell_type": "code",
   "execution_count": 9,
   "metadata": {},
   "outputs": [
    {
     "name": "stdout",
     "output_type": "stream",
     "text": [
      "1\n",
      "2\n",
      "3\n",
      "1\n",
      "2\n",
      "3\n"
     ]
    }
   ],
   "source": [
    "class MyIterator:\n",
    "    def __init__(self, max_num):\n",
    "        self.max_num = max_num\n",
    "\n",
    "    def __iter__(self):\n",
    "        num = 1\n",
    "        while num <= self.max_num:\n",
    "            yield num\n",
    "            num += 1\n",
    "\n",
    "my_iterator = MyIterator(3)\n",
    "\n",
    "for item in my_iterator:\n",
    "    print(item)\n",
    "# 1\n",
    "# 2\n",
    "# 3\n",
    "for item in my_iterator:\n",
    "    print(item)\n",
    "# 1\n",
    "# 2\n",
    "# 3 "
   ]
  },
  {
   "cell_type": "code",
   "execution_count": 11,
   "metadata": {},
   "outputs": [
    {
     "name": "stdout",
     "output_type": "stream",
     "text": [
      "0\n",
      "1\n",
      "2\n",
      "3\n",
      "0\n",
      "1\n",
      "2\n",
      "3\n"
     ]
    }
   ],
   "source": [
    "class MyIterator:\n",
    "    def __init__(self, max_num):\n",
    "        self.max_num = max_num\n",
    "\n",
    "    def __getitem__(self, key):\n",
    "        if key <= self.max_num:\n",
    "            return key\n",
    "        else:\n",
    "            raise IndexError\n",
    "\n",
    "my_iterator = MyIterator(3)\n",
    "\n",
    "for item in my_iterator:\n",
    "    print(item)\n",
    "# 0\n",
    "# 1\n",
    "# 2\n",
    "# 3\n",
    "for item in my_iterator:\n",
    "    print(item)"
   ]
  },
  {
   "cell_type": "code",
   "execution_count": 12,
   "metadata": {},
   "outputs": [
    {
     "name": "stdout",
     "output_type": "stream",
     "text": [
      "step 1\n",
      "0\n",
      "step 2\n",
      "2\n",
      "step 3\n",
      "8\n",
      "step 4\n"
     ]
    },
    {
     "ename": "StopIteration",
     "evalue": "",
     "output_type": "error",
     "traceback": [
      "\u001b[1;31m---------------------------------------------------------------------------\u001b[0m",
      "\u001b[1;31mStopIteration\u001b[0m                             Traceback (most recent call last)",
      "\u001b[1;32m<ipython-input-12-2b82d0ac8481>\u001b[0m in \u001b[0;36m<module>\u001b[1;34m\u001b[0m\n\u001b[0;32m     13\u001b[0m \u001b[0mprint\u001b[0m\u001b[1;33m(\u001b[0m\u001b[0mgenerator\u001b[0m\u001b[1;33m.\u001b[0m\u001b[0msend\u001b[0m\u001b[1;33m(\u001b[0m\u001b[1;36m7\u001b[0m\u001b[1;33m)\u001b[0m\u001b[1;33m)\u001b[0m\u001b[1;33m\u001b[0m\u001b[1;33m\u001b[0m\u001b[0m\n\u001b[0;32m     14\u001b[0m \u001b[0mprint\u001b[0m\u001b[1;33m(\u001b[0m\u001b[1;34m'step 4'\u001b[0m\u001b[1;33m)\u001b[0m\u001b[1;33m\u001b[0m\u001b[1;33m\u001b[0m\u001b[0m\n\u001b[1;32m---> 15\u001b[1;33m \u001b[0mprint\u001b[0m\u001b[1;33m(\u001b[0m\u001b[0mgenerator\u001b[0m\u001b[1;33m.\u001b[0m\u001b[0msend\u001b[0m\u001b[1;33m(\u001b[0m\u001b[1;36m10\u001b[0m\u001b[1;33m)\u001b[0m\u001b[1;33m)\u001b[0m\u001b[1;33m\u001b[0m\u001b[1;33m\u001b[0m\u001b[0m\n\u001b[0m\u001b[0;32m     16\u001b[0m \u001b[1;33m\u001b[0m\u001b[0m\n\u001b[0;32m     17\u001b[0m \u001b[1;31m# step 1\u001b[0m\u001b[1;33m\u001b[0m\u001b[1;33m\u001b[0m\u001b[1;33m\u001b[0m\u001b[0m\n",
      "\u001b[1;31mStopIteration\u001b[0m: "
     ]
    }
   ],
   "source": [
    "def generator_func(value=0):\n",
    "    while value < 10:\n",
    "        value = yield value\n",
    "        value += 1\n",
    "\n",
    "generator = generator_func()\n",
    "\n",
    "print('step 1')\n",
    "print(next(generator))\n",
    "print('step 2')\n",
    "print(generator.send(1))\n",
    "print('step 3')\n",
    "print(generator.send(7))\n",
    "print('step 4')\n",
    "print(generator.send(10))\n",
    "\n",
    "# step 1\n",
    "# 0\n",
    "# step 2\n",
    "# 2\n",
    "# step 3\n",
    "# 8\n",
    "# step 4\n",
    "# Traceback (most recent call last):\n",
    "#   File \"/Users/jackcheng/Programming/python/notes/notes_11.py\", line 106, in <module>\n",
    "#     print(generator.send(10))\n",
    "# StopIteration"
   ]
  },
  {
   "cell_type": "code",
   "execution_count": 13,
   "metadata": {},
   "outputs": [
    {
     "name": "stdout",
     "output_type": "stream",
     "text": [
      "<class 'generator'>\n",
      "0\n",
      "1\n"
     ]
    },
    {
     "ename": "StopIteration",
     "evalue": "",
     "output_type": "error",
     "traceback": [
      "\u001b[1;31m---------------------------------------------------------------------------\u001b[0m",
      "\u001b[1;31mStopIteration\u001b[0m                             Traceback (most recent call last)",
      "\u001b[1;32m<ipython-input-13-e28a30dc685c>\u001b[0m in \u001b[0;36m<module>\u001b[1;34m\u001b[0m\n\u001b[0;32m      6\u001b[0m \u001b[0mprint\u001b[0m\u001b[1;33m(\u001b[0m\u001b[0mnext\u001b[0m\u001b[1;33m(\u001b[0m\u001b[0mx\u001b[0m\u001b[1;33m)\u001b[0m\u001b[1;33m)\u001b[0m\u001b[1;33m\u001b[0m\u001b[1;33m\u001b[0m\u001b[0m\n\u001b[0;32m      7\u001b[0m \u001b[0mprint\u001b[0m\u001b[1;33m(\u001b[0m\u001b[0mnext\u001b[0m\u001b[1;33m(\u001b[0m\u001b[0mx\u001b[0m\u001b[1;33m)\u001b[0m\u001b[1;33m)\u001b[0m\u001b[1;33m\u001b[0m\u001b[1;33m\u001b[0m\u001b[0m\n\u001b[1;32m----> 8\u001b[1;33m \u001b[0mprint\u001b[0m\u001b[1;33m(\u001b[0m\u001b[0mnext\u001b[0m\u001b[1;33m(\u001b[0m\u001b[0mx\u001b[0m\u001b[1;33m)\u001b[0m\u001b[1;33m)\u001b[0m\u001b[1;33m\u001b[0m\u001b[1;33m\u001b[0m\u001b[0m\n\u001b[0m\u001b[0;32m      9\u001b[0m \u001b[1;33m\u001b[0m\u001b[0m\n\u001b[0;32m     10\u001b[0m \u001b[1;31m# 0\u001b[0m\u001b[1;33m\u001b[0m\u001b[1;33m\u001b[0m\u001b[1;33m\u001b[0m\u001b[0m\n",
      "\u001b[1;31mStopIteration\u001b[0m: "
     ]
    }
   ],
   "source": [
    "x = (i for i in range(2))\n",
    "\n",
    "print(type(x))\n",
    "# <class 'generator'>\n",
    "\n",
    "print(next(x))\n",
    "print(next(x))\n",
    "print(next(x))\n",
    "\n",
    "# 0\n",
    "# 1\n",
    "# Traceback (most recent call last):\n",
    "#   File \"/Users/jackcheng/Programming/python/notes/notes_11.py\", line 125, in <module>\n",
    "#     print(next(x))\n",
    "# StopIteration"
   ]
  },
  {
   "cell_type": "code",
   "execution_count": 3,
   "metadata": {},
   "outputs": [
    {
     "name": "stdout",
     "output_type": "stream",
     "text": [
      "<function <lambda> at 0x00000207B91E58B0>\n",
      "HelloPython\n"
     ]
    }
   ],
   "source": [
    "title = \"HelloPython\"\n",
    "print(lambda title: print(title))\n",
    "(lambda title: print(title))(title)"
   ]
  },
  {
   "cell_type": "code",
   "execution_count": 8,
   "metadata": {},
   "outputs": [
    {
     "name": "stdout",
     "output_type": "stream",
     "text": [
      "[50, 42, 12, 45]\n",
      "[100, 84, 24, 4, 90, 20, 6]\n"
     ]
    }
   ],
   "source": [
    "numbers = [50, 42, 12, 2, 45, 10, 3]\n",
    "result = filter(lambda x: x>10, numbers)\n",
    "print(list(result))\n",
    "\n",
    "result = map(lambda x: x*2, numbers)\n",
    "print(list(result))"
   ]
  },
  {
   "cell_type": "code",
   "execution_count": 11,
   "metadata": {},
   "outputs": [
    {
     "name": "stdout",
     "output_type": "stream",
     "text": [
      "45\n"
     ]
    }
   ],
   "source": [
    "from functools import reduce\n",
    "\n",
    "numbers = list(range(10))\n",
    "\n",
    "result = reduce(lambda x, y: x+y,numbers)\n",
    "\n",
    "print(result)"
   ]
  },
  {
   "cell_type": "code",
   "execution_count": 13,
   "metadata": {},
   "outputs": [
    {
     "name": "stdout",
     "output_type": "stream",
     "text": [
      "[('as', 1000), ('ma', 2000), ('ed', 5000)]\n"
     ]
    }
   ],
   "source": [
    "cars = [\n",
    "    (\"ma\", 2000),\n",
    "    (\"as\",1000),\n",
    "    (\"ed\",5000)\n",
    "]\n",
    "\n",
    "print(sorted(cars, key= lambda car: car[1]))"
   ]
  },
  {
   "cell_type": "code",
   "execution_count": null,
   "metadata": {},
   "outputs": [],
   "source": []
  }
 ],
 "metadata": {
  "kernelspec": {
   "display_name": "Python 3",
   "language": "python",
   "name": "python3"
  },
  "language_info": {
   "codemirror_mode": {
    "name": "ipython",
    "version": 3
   },
   "file_extension": ".py",
   "mimetype": "text/x-python",
   "name": "python",
   "nbconvert_exporter": "python",
   "pygments_lexer": "ipython3",
   "version": "3.8.3"
  }
 },
 "nbformat": 4,
 "nbformat_minor": 4
}
