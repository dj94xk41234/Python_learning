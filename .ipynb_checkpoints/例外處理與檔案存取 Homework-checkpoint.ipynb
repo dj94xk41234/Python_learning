{
 "cells": [
  {
   "cell_type": "markdown",
   "metadata": {
    "colab_type": "text",
    "id": "P6xk2_jLsvFF"
   },
   "source": [
    "# [作業目標]\n",
    "\n",
    "1. 請判斷下列的這幾種錯誤訊息發生的原因為何？\n",
    "\n",
    "```\n",
    "10 * (1/0)\n",
    "# Traceback (most recent call last):\n",
    "#   File \"<stdin>\", line 1, in <module>ZeroDivisionError: division by zero\n",
    "\n",
    "4 + spam*3\n",
    "# Traceback (most recent call last):\n",
    "#   File \"<stdin>\", line 1, in <module>NameError: name 'spam' is not defined\n",
    "\n",
    "'2' + 2\n",
    "# Traceback (most recent call last):\n",
    "#   File \"<stdin>\", line 1, in <module>TypeError: Can't convert 'int' object to str implicitly\n",
    "```\n",
    "\n",
    "\n",
    "2. 完成一個程式，需滿足下列需求：\n",
    "    \n",
    "    * 下載指定檔案到 Data 資料夾，存成檔名 Homework.txt (檔案網址：https://www.w3.org/TR/PNG/iso_8859-1.txt )\n",
    "    * 將 Homework.txt 檔案讀取到程式內並且計算字數\n",
    "\n",
    "\n",
    "\n",
    "\n",
    "\n"
   ]
  },
  {
   "cell_type": "markdown",
   "metadata": {
    "colab_type": "text",
    "id": "uXGll28asvFS"
   },
   "source": [
    "# 作業 "
   ]
  },
  {
   "cell_type": "markdown",
   "metadata": {},
   "source": [
    "### 1. 請判斷下列的這幾種錯誤訊息發生的原因為何？\n",
    "\n",
    "```\n",
    "10 * (1/0)\n",
    "# Traceback (most recent call last):\n",
    "#   File \"<stdin>\", line 1, in <module>ZeroDivisionError: division by zero\n",
    "\n",
    "4 + spam*3\n",
    "# Traceback (most recent call last):\n",
    "#   File \"<stdin>\", line 1, in <module>NameError: name 'spam' is not defined\n",
    "\n",
    "'2' + 2\n",
    "# Traceback (most recent call last):\n",
    "#   File \"<stdin>\", line 1, in <module>TypeError: Can't convert 'int' object to str implicitly\n",
    "```"
   ]
  },
  {
   "cell_type": "code",
   "execution_count": null,
   "metadata": {
    "colab": {},
    "colab_type": "code",
    "id": "5QrYoyNWsvFS"
   },
   "outputs": [],
   "source": [
    "'''\n",
    "Your Code\n",
    "'''\n",
    "除數不能為0\n",
    "spam 沒有定義變數\n",
    "字串和數字不能相加\n"
   ]
  },
  {
   "cell_type": "markdown",
   "metadata": {},
   "source": [
    "### 2. 完成一個程式，需滿足下列需求：\n",
    "    \n",
    "* 下載指定檔案到 Data 資料夾，存成檔名 Homework.txt (檔案網址：https://www.w3.org/TR/PNG/iso_8859-1.txt )\n",
    "* 將 Homework.txt 檔案讀取到程式內並且計算字數\n"
   ]
  },
  {
   "cell_type": "code",
   "execution_count": 11,
   "metadata": {
    "colab": {},
    "colab_type": "code",
    "id": "e1gVI0tvsvFY",
    "scrolled": false
   },
   "outputs": [],
   "source": [
    "# 根據需求引入正確的 Library\n",
    "\n",
    "from urllib.request import urlretrieve\n",
    "import os\n",
    "\n",
    "# 下載檔案到 Data 資料夾，存成檔名 Homework.txt\n",
    "\n",
    "try:\n",
    "    os.makedirs( './Data', exist_ok=True )\n",
    "    urlretrieve (\"https://www.w3.org/TR/PNG/iso_8859-1.txt\", \"./Data/Homework.txt\")\n",
    "except:\n",
    "    print('發生錯誤！')\n",
    "\n",
    "# 將 Homework.txt 檔案讀取到程式內並且計算字數\n",
    "  \n",
    "    \n",
    "'''\n",
    "Your Code\n",
    "'''\n",
    "l = 0\n",
    "f = None\n",
    "with open(\"Homework.txt\", \"r\") as fh:\n",
    "    f = fh.read()\n",
    "    "
   ]
  },
  {
   "cell_type": "code",
   "execution_count": 15,
   "metadata": {},
   "outputs": [
    {
     "data": {
      "text/plain": [
       "6121"
      ]
     },
     "execution_count": 15,
     "metadata": {},
     "output_type": "execute_result"
    }
   ],
   "source": [
    "len(f)"
   ]
  },
  {
   "cell_type": "code",
   "execution_count": null,
   "metadata": {},
   "outputs": [],
   "source": []
  }
 ],
 "metadata": {
  "colab": {
   "name": "Day_023_HW.ipynb",
   "provenance": []
  },
  "kernelspec": {
   "display_name": "Python 3",
   "language": "python",
   "name": "python3"
  },
  "language_info": {
   "codemirror_mode": {
    "name": "ipython",
    "version": 3
   },
   "file_extension": ".py",
   "mimetype": "text/x-python",
   "name": "python",
   "nbconvert_exporter": "python",
   "pygments_lexer": "ipython3",
   "version": "3.8.3"
  }
 },
 "nbformat": 4,
 "nbformat_minor": 1
}
