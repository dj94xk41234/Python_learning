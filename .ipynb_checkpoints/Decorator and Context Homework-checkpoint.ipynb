{
 "cells": [
  {
   "cell_type": "markdown",
   "metadata": {
    "colab_type": "text",
    "id": "P6xk2_jLsvFF"
   },
   "source": [
    "# [作業目標]\n",
    "\n",
    "\n",
    "1. [簡答題] 請列舉幾個可以用 decorator 或 context 使用的情境？\n",
    "\n",
    "2. 如何使用 decorator 讓程式執行 foo(...) 前執行 a(...)、b(...) 兩段程式：\n",
    "\n",
    "```\n",
    "def a(f):\n",
    "    print('a() is called')\n",
    "    return\n",
    "\n",
    "def b(f):\n",
    "    print('b() is called')\n",
    "    return\n",
    "\n",
    "def f():\n",
    "    return \"hello world\"\n",
    "```\n",
    "\n"
   ]
  },
  {
   "cell_type": "markdown",
   "metadata": {
    "colab_type": "text",
    "id": "uXGll28asvFS"
   },
   "source": [
    "# 作業 "
   ]
  },
  {
   "cell_type": "markdown",
   "metadata": {},
   "source": [
    "### 1. [簡答題] 請列舉幾個可以用 decorator 或 context 使用的情境？\n"
   ]
  },
  {
   "cell_type": "markdown",
   "metadata": {},
   "source": [
    "'''\n",
    "Your Code\n",
    "'''\n",
    "decorator :將函式在封裝，在不影響閱讀的情況下，減少代碼重複性\n",
    "\n",
    "context : 上下文管理器，利用with在執行前處理資料，執行後再次處理"
   ]
  },
  {
   "cell_type": "markdown",
   "metadata": {},
   "source": [
    "### 2. 如何使用 decorator 讓程式執行 foo(...) 前執行 a(...)、b(...) 兩段程式：\n",
    "\n",
    "```\n",
    "def a(f):\n",
    "    print('a() is called')\n",
    "    return\n",
    "\n",
    "def b(f):\n",
    "    print('b() is called')\n",
    "    return\n",
    "\n",
    "def f():\n",
    "    return \"hello world\"\n",
    "```"
   ]
  },
  {
   "cell_type": "code",
   "execution_count": 10,
   "metadata": {},
   "outputs": [
    {
     "data": {
      "text/plain": [
       "'\\nYour Code\\n'"
      ]
     },
     "execution_count": 10,
     "metadata": {},
     "output_type": "execute_result"
    }
   ],
   "source": [
    "'''\n",
    "Your Code\n",
    "'''\n"
   ]
  },
  {
   "cell_type": "code",
   "execution_count": 14,
   "metadata": {},
   "outputs": [
    {
     "name": "stdout",
     "output_type": "stream",
     "text": [
      "a() is called\n",
      "b() is called\n"
     ]
    },
    {
     "data": {
      "text/plain": [
       "'hello world'"
      ]
     },
     "execution_count": 14,
     "metadata": {},
     "output_type": "execute_result"
    }
   ],
   "source": [
    "from functools import wraps\n",
    "\n",
    "def a(f):\n",
    "  \n",
    "    def wrap():\n",
    "        print('a() is called')\n",
    "        return f()\n",
    "    return wrap\n",
    "\n",
    "def b(f):\n",
    "    def wrap():\n",
    "        print('b() is called')\n",
    "        return f()\n",
    "    return wrap\n",
    "@a\n",
    "@b\n",
    "def f():\n",
    "    return \"hello world\"\n",
    "f()"
   ]
  },
  {
   "cell_type": "code",
   "execution_count": 13,
   "metadata": {},
   "outputs": [
    {
     "name": "stdout",
     "output_type": "stream",
     "text": [
      "a() is called\n",
      "b() is called\n"
     ]
    },
    {
     "data": {
      "text/plain": [
       "'hello world'"
      ]
     },
     "execution_count": 13,
     "metadata": {},
     "output_type": "execute_result"
    }
   ],
   "source": [
    "\n",
    "def a(f):\n",
    "    def wrapped():\n",
    "        print('a() is called')\n",
    "        return f()\n",
    "    return wrapped\n",
    "\n",
    "def b(f):\n",
    "    def wrapped():\n",
    "        print('b() is called')\n",
    "        return f()\n",
    "    return wrapped\n",
    "\n",
    "@a\n",
    "@b\n",
    "def f():\n",
    "    return \"hello world\"\n",
    "\n",
    "f()"
   ]
  },
  {
   "cell_type": "code",
   "execution_count": null,
   "metadata": {},
   "outputs": [],
   "source": []
  }
 ],
 "metadata": {
  "colab": {
   "name": "Day_023_HW.ipynb",
   "provenance": []
  },
  "kernelspec": {
   "display_name": "Python 3",
   "language": "python",
   "name": "python3"
  },
  "language_info": {
   "codemirror_mode": {
    "name": "ipython",
    "version": 3
   },
   "file_extension": ".py",
   "mimetype": "text/x-python",
   "name": "python",
   "nbconvert_exporter": "python",
   "pygments_lexer": "ipython3",
   "version": "3.8.3"
  }
 },
 "nbformat": 4,
 "nbformat_minor": 1
}
