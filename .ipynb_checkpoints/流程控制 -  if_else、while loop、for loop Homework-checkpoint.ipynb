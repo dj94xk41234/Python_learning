{
 "cells": [
  {
   "cell_type": "markdown",
   "metadata": {
    "colab_type": "text",
    "id": "P6xk2_jLsvFF"
   },
   "source": [
    "# [作業目標]\n",
    "\n",
    "1. 有一個 List 包含 10 個元素：[1, 2, 3, 4, 5, 6, 7, 8, 9, 0]，如果調整成偶數放前面，奇數放後面的樣子？結果會像是 [2, 4, 6, 8, 0, 1, 3, 5, 7, 9]\n",
    "\n",
    "2. 在數學中，用 n! 來表示階乘，例如，4! =1×2×3×4 =24。請分別 (1) 用 for 迴圈 (2) 用 while 迴圈完成一個程式，讓使用者輸入 n，印出 n!\n",
    "\n",
    "\n",
    "\n"
   ]
  },
  {
   "cell_type": "markdown",
   "metadata": {
    "colab_type": "text",
    "id": "uXGll28asvFS"
   },
   "source": [
    "# 作業 "
   ]
  },
  {
   "cell_type": "markdown",
   "metadata": {},
   "source": [
    "### 1. 有一個 List 包含 10 個元素：[1, 2, 3, 4, 5, 6, 7, 8, 9, 0]，如果調整成偶數放前面，奇數放後面的樣子？結果會像是 [2, 4, 6, 8, 0, 1, 3, 5, 7, 9]\n",
    "\n",
    "\n",
    "\n",
    "\n"
   ]
  },
  {
   "cell_type": "code",
   "execution_count": 7,
   "metadata": {
    "colab": {},
    "colab_type": "code",
    "id": "5QrYoyNWsvFS"
   },
   "outputs": [
    {
     "name": "stdout",
     "output_type": "stream",
     "text": [
      "[1, 2, 3, 4, 5, 6, 7, 8, 9, 0]\n",
      "1 b\n",
      "1 a\n",
      "2 b\n",
      "2 a\n",
      "3 b\n",
      "3 a\n",
      "4 b\n",
      "4 a\n",
      "5 b\n"
     ]
    },
    {
     "data": {
      "text/plain": [
       "[1, 3, 5, 7, 9, 0, 2, 4, 6, 8]"
      ]
     },
     "execution_count": 7,
     "metadata": {},
     "output_type": "execute_result"
    }
   ],
   "source": [
    "'''\n",
    "Your Code\n",
    "'''\n",
    "list1 = list(range(0,10))\n",
    "list1.append(list1.pop(0))\n",
    "list1\n",
    "\n",
    "i = 0\n",
    "list2 = list1[:]\n",
    "\n",
    "list_tail = len(list2) - 1\n",
    "print(list2)\n",
    "\n",
    "while i < list_tail:\n",
    "    if (list2[i] % 2) == 0:\n",
    "        list_tail -= 1\n",
    "        list2.append(list2.pop(i))\n",
    "        continue\n",
    "    \n",
    "    i += 1\n",
    "    \n",
    "list2   \n"
   ]
  },
  {
   "cell_type": "code",
   "execution_count": 13,
   "metadata": {},
   "outputs": [
    {
     "data": {
      "text/plain": [
       "[1, 3, 5, 6, 7, 8, 9, 0, 2]"
      ]
     },
     "execution_count": 13,
     "metadata": {},
     "output_type": "execute_result"
    }
   ],
   "source": [
    "list2"
   ]
  },
  {
   "cell_type": "markdown",
   "metadata": {},
   "source": [
    "### 2. 在數學中，用 n! 來表示階乘，例如，4! =1×2×3×4 =24。請分別 (1) 用 for 迴圈 (2) 用 while 迴圈完成一個程式，讓使用者輸入 n，印出 n!\n",
    "\n"
   ]
  },
  {
   "cell_type": "code",
   "execution_count": 9,
   "metadata": {
    "colab": {},
    "colab_type": "code",
    "id": "e1gVI0tvsvFY",
    "scrolled": false
   },
   "outputs": [
    {
     "name": "stdout",
     "output_type": "stream",
     "text": [
      "input int: 6\n"
     ]
    },
    {
     "data": {
      "text/plain": [
       "720"
      ]
     },
     "execution_count": 9,
     "metadata": {},
     "output_type": "execute_result"
    }
   ],
   "source": [
    "\n",
    "'''\n",
    "Your Code\n",
    "'''\n",
    "ns = int(input(\"input int: \"))\n",
    "\n",
    "output = 1\n",
    "\n",
    "for n in range(1, ns+1):\n",
    "    output *= n\n",
    "output\n",
    "\n"
   ]
  },
  {
   "cell_type": "code",
   "execution_count": 10,
   "metadata": {},
   "outputs": [
    {
     "name": "stdout",
     "output_type": "stream",
     "text": [
      "input int: 6\n"
     ]
    },
    {
     "data": {
      "text/plain": [
       "720"
      ]
     },
     "execution_count": 10,
     "metadata": {},
     "output_type": "execute_result"
    }
   ],
   "source": [
    "i = 1\n",
    "ns = int(input(\"input int: \"))\n",
    "output = 1\n",
    "while i <=ns :\n",
    "    output *= i\n",
    "    i += 1\n",
    "output"
   ]
  }
 ],
 "metadata": {
  "colab": {
   "name": "Day_023_HW.ipynb",
   "provenance": []
  },
  "kernelspec": {
   "display_name": "Python 3",
   "language": "python",
   "name": "python3"
  },
  "language_info": {
   "codemirror_mode": {
    "name": "ipython",
    "version": 3
   },
   "file_extension": ".py",
   "mimetype": "text/x-python",
   "name": "python",
   "nbconvert_exporter": "python",
   "pygments_lexer": "ipython3",
   "version": "3.8.3"
  }
 },
 "nbformat": 4,
 "nbformat_minor": 1
}
