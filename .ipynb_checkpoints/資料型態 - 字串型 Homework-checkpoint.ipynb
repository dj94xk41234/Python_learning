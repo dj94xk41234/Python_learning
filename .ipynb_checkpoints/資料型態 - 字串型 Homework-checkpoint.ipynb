{
 "cells": [
  {
   "cell_type": "markdown",
   "metadata": {
    "colab_type": "text",
    "id": "P6xk2_jLsvFF"
   },
   "source": [
    "# [作業目標]\n",
    "\n",
    "1. Write a Python program to get a string made of the first 2 and the last 2 chars from a given a string. If the string length is less than 2, return instead of the empty string.\n",
    "\n",
    "    * Sample Input: w3resource\n",
    "    * Sample Output: w3ce\n",
    "\n",
    "\n",
    "2. 一個網址的結構大概如圖所示，試著用 Python 分別把每個值取出來。\n",
    "\n"
   ]
  },
  {
   "cell_type": "markdown",
   "metadata": {
    "colab_type": "text",
    "id": "uXGll28asvFS"
   },
   "source": [
    "# 作業 "
   ]
  },
  {
   "cell_type": "markdown",
   "metadata": {},
   "source": [
    "### 1. Write a Python program to get a string made of the first 2 and the last 2 chars from a given a string. If the string length is less than 2, return instead of the empty string.\n",
    "\n",
    "* Sample Input: w3resource\n",
    "* Sample Output: w3ce\n"
   ]
  },
  {
   "cell_type": "code",
   "execution_count": 5,
   "metadata": {
    "colab": {},
    "colab_type": "code",
    "id": "5QrYoyNWsvFS"
   },
   "outputs": [
    {
     "name": "stdout",
     "output_type": "stream",
     "text": [
      "input stringz\n",
      "z\n"
     ]
    }
   ],
   "source": [
    "'''\n",
    "Your Code\n",
    "'''\n",
    "s = input(\"input string\")\n",
    "\n",
    "s_first, s_last, output = \"\", \"\", \"\"\n",
    "\n",
    "if len(s) >= 2 :\n",
    "    output = s[0:2] + s[-2] + s[-1]\n",
    "    print(output)\n",
    "else:\n",
    "    print(s)"
   ]
  },
  {
   "cell_type": "markdown",
   "metadata": {},
   "source": [
    "### 2. 一個網址的結構大概如圖所示，試著用 Python 分別把每個值取出來。\n"
   ]
  },
  {
   "cell_type": "code",
   "execution_count": 37,
   "metadata": {
    "colab": {},
    "colab_type": "code",
    "id": "e1gVI0tvsvFY",
    "scrolled": false
   },
   "outputs": [
    {
     "name": "stdout",
     "output_type": "stream",
     "text": [
      "protocol : https\n",
      "domain : www.trivago.com.tw\n",
      "port : 3000\n",
      "path : search\n",
      "fragment : taipei\n"
     ]
    }
   ],
   "source": [
    "url = 'https://www.trivago.com.tw:3000/search#taipei'\n",
    "\n",
    "'''\n",
    "Your Input\n",
    "'''\n",
    "protocol, domain, port, path, fragment = [\"\"]*5\n",
    "\n",
    "\n",
    "front = url.find(\"www\")\n",
    "colon = url[6:].find(\":\") + 6 #從第一個 \":\"後查找\n",
    "slash = url[front:].find(\"/\") + front\n",
    "p_hash = url.find(\"#\")\n",
    "\n",
    "protocol = url[0:5]\n",
    "domain = url[front : colon]\n",
    "port = url[colon + 1 : slash]\n",
    "path = url[slash + 1 : p_hash]\n",
    "fragment = url[p_hash + 1:]\n",
    "\n",
    "print('protocol : %s' % (protocol)) # https\n",
    "print('domain : %s' % (domain)) # www.trivago.com.tw:\n",
    "print('port : %s' % (port)) # 3000\n",
    "print('path : %s' % (path)) # search\n",
    "print('fragment : %s' % (fragment)) # taipei"
   ]
  },
  {
   "cell_type": "code",
   "execution_count": 15,
   "metadata": {},
   "outputs": [
    {
     "name": "stdout",
     "output_type": "stream",
     "text": [
      "20\n"
     ]
    }
   ],
   "source": [
    "print(url[6:].find(\":\"))\n"
   ]
  },
  {
   "cell_type": "code",
   "execution_count": 32,
   "metadata": {},
   "outputs": [
    {
     "data": {
      "text/plain": [
       "'/'"
      ]
     },
     "execution_count": 32,
     "metadata": {},
     "output_type": "execute_result"
    }
   ],
   "source": [
    "url[slash]"
   ]
  },
  {
   "cell_type": "code",
   "execution_count": 33,
   "metadata": {},
   "outputs": [
    {
     "data": {
      "text/plain": [
       "31"
      ]
     },
     "execution_count": 33,
     "metadata": {},
     "output_type": "execute_result"
    }
   ],
   "source": [
    "slash"
   ]
  },
  {
   "cell_type": "code",
   "execution_count": null,
   "metadata": {},
   "outputs": [],
   "source": []
  }
 ],
 "metadata": {
  "colab": {
   "name": "Day_023_HW.ipynb",
   "provenance": []
  },
  "kernelspec": {
   "display_name": "Python 3",
   "language": "python",
   "name": "python3"
  },
  "language_info": {
   "codemirror_mode": {
    "name": "ipython",
    "version": 3
   },
   "file_extension": ".py",
   "mimetype": "text/x-python",
   "name": "python",
   "nbconvert_exporter": "python",
   "pygments_lexer": "ipython3",
   "version": "3.8.3"
  }
 },
 "nbformat": 4,
 "nbformat_minor": 1
}
