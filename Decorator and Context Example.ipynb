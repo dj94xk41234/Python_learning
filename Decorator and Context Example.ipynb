{
 "cells": [
  {
   "cell_type": "markdown",
   "metadata": {},
   "source": [
    "# 範例\n",
    "***"
   ]
  },
  {
   "cell_type": "markdown",
   "metadata": {},
   "source": [
    "# [教學目標]\n",
    "\n",
    "* 了解 decorator、Context 概念\n",
    "* 正確使用 decorator 簡化程式碼\n",
    "* 正確使用 Context 自動執行動作\n",
    "\n"
   ]
  },
  {
   "cell_type": "markdown",
   "metadata": {},
   "source": [
    "## 如何紀錄函式執行時間？"
   ]
  },
  {
   "cell_type": "code",
   "execution_count": 2,
   "metadata": {},
   "outputs": [
    {
     "name": "stdout",
     "output_type": "stream",
     "text": [
      "do something\n",
      "執行時間 3.004465103149414\n"
     ]
    }
   ],
   "source": [
    "import time\n",
    "\n",
    "def do():\n",
    "    start = time.time()\n",
    "    print(\"do something\")\n",
    "    time.sleep(3)\n",
    "    print(\"執行時間\", time.time()-start)\n",
    "    return\n",
    "\n",
    "do()"
   ]
  },
  {
   "cell_type": "code",
   "execution_count": 2,
   "metadata": {},
   "outputs": [
    {
     "name": "stdout",
     "output_type": "stream",
     "text": [
      "do something\n",
      "執行時間 3.0046520233154297\n"
     ]
    }
   ],
   "source": [
    "# 把共同的程式碼封裝成函式\n",
    "\n",
    "import time\n",
    "\n",
    "def cal_time(func):\n",
    "    start = time.time()\n",
    "    func()\n",
    "    print(\"執行時間\", time.time()-start)\n",
    "    return\n",
    "\n",
    "def do():\n",
    "    print(\"do something\")\n",
    "    time.sleep(3)\n",
    "    return\n",
    "\n",
    "cal_time(do)\n"
   ]
  },
  {
   "cell_type": "code",
   "execution_count": 5,
   "metadata": {},
   "outputs": [
    {
     "name": "stdout",
     "output_type": "stream",
     "text": [
      "do something\n",
      "執行時間 3.01259183883667\n"
     ]
    }
   ],
   "source": [
    "# 近一步把函式封裝成裝飾器\n",
    "\n",
    "import time\n",
    "\n",
    "def cal_time(func):\n",
    "    def wrap():\n",
    "        start = time.time()\n",
    "        func()\n",
    "        print('執行時間', time.time()-start)\n",
    "    return wrap\n",
    "\n",
    "def do():\n",
    "    print(\"do something\")\n",
    "    time.sleep(3)\n",
    "    return\n",
    "\n",
    "do = cal_time(do)\n",
    "do()\n"
   ]
  },
  {
   "cell_type": "code",
   "execution_count": 4,
   "metadata": {},
   "outputs": [
    {
     "name": "stdout",
     "output_type": "stream",
     "text": [
      "do something\n",
      "執行時間 3.000983953475952\n"
     ]
    }
   ],
   "source": [
    "# 裝飾器的語法糖\n",
    "\n",
    "import time\n",
    "def cal_time(func):\n",
    "    def wrap():\n",
    "        start = time.time()\n",
    "        func()\n",
    "        print('執行時間', time.time()-start)\n",
    "    return wrap\n",
    "\n",
    "@cal_time\n",
    "def do():\n",
    "    print(\"do something\")\n",
    "    time.sleep(3)\n",
    "    return\n",
    "\n",
    "do()\n"
   ]
  },
  {
   "cell_type": "markdown",
   "metadata": {},
   "source": [
    "## 利用 Context Management 紀錄時間"
   ]
  },
  {
   "cell_type": "code",
   "execution_count": 7,
   "metadata": {},
   "outputs": [
    {
     "name": "stdout",
     "output_type": "stream",
     "text": [
      "do something\n",
      "執行時間 3.001824140548706\n"
     ]
    }
   ],
   "source": [
    "import time\n",
    "\n",
    "class Do:\n",
    "    def do(self):\n",
    "        print(\"do something\")\n",
    "        time.sleep(3)\n",
    "    def __enter__(self):\n",
    "        self.start = time.time()\n",
    "        self.do()\n",
    "    def __exit__(self, exc_type, exc_value, traceback):\n",
    "        print('執行時間', time.time()-self.start)\n",
    "\n",
    "with Do() as d:\n",
    "    pass\n"
   ]
  },
  {
   "cell_type": "code",
   "execution_count": 31,
   "metadata": {},
   "outputs": [
    {
     "name": "stdout",
     "output_type": "stream",
     "text": [
      "<generator object A at 0x0000019C0F4C50B0>\n"
     ]
    }
   ],
   "source": [
    "def A():\n",
    "    a = [1,2,3,4]\n",
    "    for i in a:\n",
    "        print(i)\n",
    "        yield i\n",
    "        \n",
    "x = A()\n",
    "print(x)"
   ]
  },
  {
   "cell_type": "code",
   "execution_count": 108,
   "metadata": {
    "scrolled": true
   },
   "outputs": [
    {
     "name": "stdout",
     "output_type": "stream",
     "text": [
      "1\n",
      "1\n"
     ]
    }
   ],
   "source": [
    "print(next(i for i in x))\n"
   ]
  },
  {
   "cell_type": "code",
   "execution_count": 87,
   "metadata": {},
   "outputs": [
    {
     "name": "stdout",
     "output_type": "stream",
     "text": [
      "1\n"
     ]
    }
   ],
   "source": [
    "print(1)"
   ]
  },
  {
   "cell_type": "code",
   "execution_count": 19,
   "metadata": {},
   "outputs": [
    {
     "name": "stdout",
     "output_type": "stream",
     "text": [
      "<generator object A at 0x0000019C0F8E5120>\n"
     ]
    }
   ],
   "source": [
    "def A():\n",
    "    a = 0\n",
    "    yield a\n",
    "    a += 1\n",
    "    yield a\n",
    "    a += 1\n",
    "    yield a\n",
    "a = A()\n",
    "print(a)"
   ]
  },
  {
   "cell_type": "code",
   "execution_count": 106,
   "metadata": {},
   "outputs": [
    {
     "name": "stdout",
     "output_type": "stream",
     "text": [
      "3\n",
      "3\n"
     ]
    }
   ],
   "source": [
    "print(next(a))"
   ]
  },
  {
   "cell_type": "code",
   "execution_count": 107,
   "metadata": {},
   "outputs": [
    {
     "name": "stdout",
     "output_type": "stream",
     "text": [
      "4\n",
      "4\n"
     ]
    }
   ],
   "source": [
    "print(next(i for i in a))"
   ]
  },
  {
   "cell_type": "code",
   "execution_count": null,
   "metadata": {},
   "outputs": [],
   "source": []
  }
 ],
 "metadata": {
  "kernelspec": {
   "display_name": "Python 3",
   "language": "python",
   "name": "python3"
  },
  "language_info": {
   "codemirror_mode": {
    "name": "ipython",
    "version": 3
   },
   "file_extension": ".py",
   "mimetype": "text/x-python",
   "name": "python",
   "nbconvert_exporter": "python",
   "pygments_lexer": "ipython3",
   "version": "3.8.3"
  }
 },
 "nbformat": 4,
 "nbformat_minor": 2
}
